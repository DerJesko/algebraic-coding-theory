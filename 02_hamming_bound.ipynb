{
 "cells": [
  {
   "cell_type": "markdown",
   "source": [
    "# Hamming Bound & Perfect Codes\n"
   ],
   "metadata": {}
  },
  {
   "cell_type": "markdown",
   "source": [
    "## Hamming Bound\n",
    "\n",
    "A Hamming ball or radius $(d-1)/2$ has size $\\sum^{(d-1)/2}_{i=0}\\binom{n}{i}(q-1)^i$. The codeword space must have such a ball centered at every codeword such that the balls are not overlapping.\n"
   ],
   "metadata": {}
  },
  {
   "cell_type": "markdown",
   "source": [],
   "metadata": {}
  }
 ],
 "metadata": {
  "orig_nbformat": 4,
  "language_info": {
   "name": "python"
  }
 },
 "nbformat": 4,
 "nbformat_minor": 2
}