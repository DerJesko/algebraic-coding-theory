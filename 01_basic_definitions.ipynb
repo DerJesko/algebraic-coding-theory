{
 "cells": [
  {
   "cell_type": "markdown",
   "source": [
    "# Basic Definitions"
   ],
   "metadata": {}
  },
  {
   "cell_type": "markdown",
   "source": [
    "## Error Correcting Code Motivation\n",
    "\n",
    "The goal for an error correcting code is to encode a message into codewords such that the message is recoverable even if these codewords somehow get modified before they are received.\n",
    "\n",
    "This clearly has applications in wireless communication protocols. There it is hard to guarantee that a signal is received exactly as it is sent. This property however is important for many applications and it can be provided using error correcting codes. One of the most famous examples is the use of error correcting codes to send messages from satelites back to earth but is also used in the Wifi protocols.\n",
    "\n",
    "Error correcting codes and coding theory also play a role in cryptography. In the recent years coding based cryptography rose in popularity, since in contrast to factoring based cryptography it is conjectured to be resistant to attacks by quantum computers.\n"
   ],
   "metadata": {}
  },
  {
   "cell_type": "markdown",
   "source": [
    "## Error Correcting Code Definitions\n",
    "\n",
    "Formally, an alphabet is a finite set $\\Sigma$ of $q$ symbols. This should be familiar from theoretical computer science classes.\n",
    "\n",
    "In coding theory a message is a length $k$ string over such an alphabet $\\Sigma$.\n",
    "\n",
    "These messages are then encoded using an algorithm $enc$ into codewords of length $n$.\n",
    "$$enc: \\Sigma^k \\rightarrow \\Sigma^n$$\n",
    "$$(m_1,\\dots,m_k) \\mapsto (c_1,\\dots,c_n)$$\n",
    "\n",
    "The code $C := enc(\\Sigma^k)$ is the set of all possible codewords.\n",
    "\n",
    "The rate of information transmission is the message length to codeword length ration\n",
    "$$r:=k/n$$\n",
    "\n",
    "The role of a decoding algorithm is to recover the message from the received word. It tries to output the message corresponding to the closest codeword.\n",
    "\n",
    "To understand what closest mean we need a measure of distance. In coding theory we use the Hamming distance. The Hamming distance of two words is the number of coordinates where they differ.\n",
    "\n",
    "An error correcting code can correct up to $(d-1)/2$ where d is the minimum distance\n",
    "$$ d:= \\min_{c\\neq c' \\in C} Hamming~distance(c,c')$$\n",
    "The relative distance $\\delta$ captures the distance to codeword length ratio.\n",
    "$$\\delta:=d/n$$\n"
   ],
   "metadata": {}
  }
 ],
 "metadata": {
  "orig_nbformat": 4,
  "language_info": {
   "name": "python"
  }
 },
 "nbformat": 4,
 "nbformat_minor": 2
}